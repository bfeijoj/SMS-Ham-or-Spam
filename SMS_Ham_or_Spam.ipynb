{
  "nbformat": 4,
  "nbformat_minor": 0,
  "metadata": {
    "colab": {
      "name": "SMS_Ham_or_Spam.ipynb",
      "provenance": [],
      "collapsed_sections": [],
      "authorship_tag": "ABX9TyM+BaYA2WVBOuVsEkBSSjIB",
      "include_colab_link": true
    },
    "kernelspec": {
      "name": "python3",
      "display_name": "Python 3"
    },
    "language_info": {
      "name": "python"
    }
  },
  "cells": [
    {
      "cell_type": "markdown",
      "metadata": {
        "id": "view-in-github",
        "colab_type": "text"
      },
      "source": [
        "<a href=\"https://colab.research.google.com/github/bfeijoj/SMS-Ham-or-Spam/blob/main/SMS_Ham_or_Spam.ipynb\" target=\"_parent\"><img src=\"https://colab.research.google.com/assets/colab-badge.svg\" alt=\"Open In Colab\"/></a>"
      ]
    },
    {
      "cell_type": "code",
      "execution_count": null,
      "metadata": {
        "id": "G4Z19knokrOl"
      },
      "outputs": [],
      "source": [
        "import tensorflow as tf\n",
        "import pandas as pd\n",
        "from tensorflow import keras\n",
        "!pip install tensorflow-datasets\n",
        "import tensorflow_datasets as tfds\n",
        "import numpy as np\n",
        "import matplotlib.pyplot as plt\n",
        "from keras.preprocessing import sequence"
      ]
    },
    {
      "cell_type": "code",
      "source": [
        "# -------------------------------------------------------------------------- Get data files ------------------------------------------------------------------------------\n",
        "\n",
        "train_data_url = \"https://raw.githubusercontent.com/beaucarnes/fcc_python_curriculum/master/sms/train-data.tsv\"\n",
        "test_data_url = \"https://raw.githubusercontent.com/beaucarnes/fcc_python_curriculum/master/sms/valid-data.tsv\"\n",
        "\n",
        "train_file_path = tf.keras.utils.get_file(\"train-data.tsv\", train_data_url)\n",
        "test_file_path = tf.keras.utils.get_file(\"valid-data.tsv\", test_data_url)"
      ],
      "metadata": {
        "colab": {
          "base_uri": "https://localhost:8080/"
        },
        "id": "AEXnBLf1k0pY",
        "outputId": "4ed29aa8-eae3-42c2-a3c2-a0b858dfa997"
      },
      "execution_count": 2,
      "outputs": [
        {
          "output_type": "stream",
          "name": "stdout",
          "text": [
            "Downloading data from https://raw.githubusercontent.com/beaucarnes/fcc_python_curriculum/master/sms/train-data.tsv\n",
            "360448/358233 [==============================] - 0s 0us/step\n",
            "368640/358233 [==============================] - 0s 0us/step\n",
            "Downloading data from https://raw.githubusercontent.com/beaucarnes/fcc_python_curriculum/master/sms/valid-data.tsv\n",
            "122880/118774 [===============================] - 0s 0us/step\n",
            "131072/118774 [=================================] - 0s 0us/step\n"
          ]
        }
      ]
    },
    {
      "cell_type": "code",
      "source": [
        "# -------------------------------------------------------------------------- Data Management ------------------------------------------------------------------------------\n",
        "\n",
        "import string\n",
        "\n",
        "raw_train_data = pd.read_csv(train_file_path, sep='\\t', header = None, \n",
        "                  names=[\"type\", \"message\"])\n",
        "raw_test_data = pd.read_csv(test_file_path, sep='\\t', header = None, \n",
        "                  names=[\"type\", \"message\"])\n",
        "\n",
        "raw_train_data['type'].replace('ham', 0, inplace = True)\n",
        "raw_train_data['type'].replace('spam', 1, inplace = True)\n",
        "raw_train_data['message'] = raw_train_data['message'].str.lower()\n",
        "raw_train_data['message'] = raw_train_data['message'].str.translate(str.maketrans(' ', ' ', string.punctuation))\n",
        "raw_train_data['message'] = raw_train_data['message'].str.split()\n",
        "\n",
        "raw_test_data['type'].replace('ham', 0, inplace = True)\n",
        "raw_test_data['type'].replace('spam', 1, inplace = True)\n",
        "raw_test_data['message'] = raw_test_data['message'].str.lower()\n",
        "raw_test_data['message'] = raw_test_data['message'].str.translate(str.maketrans(' ', ' ', string.punctuation))\n",
        "raw_test_data['message'] = raw_test_data['message'].str.split()\n",
        "\n",
        "raw_train_data.tail()"
      ],
      "metadata": {
        "colab": {
          "base_uri": "https://localhost:8080/",
          "height": 206
        },
        "id": "KUIcVxAdk6B7",
        "outputId": "313a34f4-fd51-4a3f-8154-77cf3c5971f8"
      },
      "execution_count": 3,
      "outputs": [
        {
          "output_type": "execute_result",
          "data": {
            "text/html": [
              "\n",
              "  <div id=\"df-b0b45c5e-72c6-488e-b200-b6a445819ce9\">\n",
              "    <div class=\"colab-df-container\">\n",
              "      <div>\n",
              "<style scoped>\n",
              "    .dataframe tbody tr th:only-of-type {\n",
              "        vertical-align: middle;\n",
              "    }\n",
              "\n",
              "    .dataframe tbody tr th {\n",
              "        vertical-align: top;\n",
              "    }\n",
              "\n",
              "    .dataframe thead th {\n",
              "        text-align: right;\n",
              "    }\n",
              "</style>\n",
              "<table border=\"1\" class=\"dataframe\">\n",
              "  <thead>\n",
              "    <tr style=\"text-align: right;\">\n",
              "      <th></th>\n",
              "      <th>type</th>\n",
              "      <th>message</th>\n",
              "    </tr>\n",
              "  </thead>\n",
              "  <tbody>\n",
              "    <tr>\n",
              "      <th>4174</th>\n",
              "      <td>0</td>\n",
              "      <td>[just, woke, up, yeesh, its, late, but, i, did...</td>\n",
              "    </tr>\n",
              "    <tr>\n",
              "      <th>4175</th>\n",
              "      <td>0</td>\n",
              "      <td>[what, do, u, reckon, as, need, 2, arrange, tr...</td>\n",
              "    </tr>\n",
              "    <tr>\n",
              "      <th>4176</th>\n",
              "      <td>1</td>\n",
              "      <td>[free, entry, into, our, £250, weekly, competi...</td>\n",
              "    </tr>\n",
              "    <tr>\n",
              "      <th>4177</th>\n",
              "      <td>1</td>\n",
              "      <td>[pls, stop, bootydelious, 32f, is, inviting, y...</td>\n",
              "    </tr>\n",
              "    <tr>\n",
              "      <th>4178</th>\n",
              "      <td>0</td>\n",
              "      <td>[tell, my, bad, character, which, u, dnt, lik,...</td>\n",
              "    </tr>\n",
              "  </tbody>\n",
              "</table>\n",
              "</div>\n",
              "      <button class=\"colab-df-convert\" onclick=\"convertToInteractive('df-b0b45c5e-72c6-488e-b200-b6a445819ce9')\"\n",
              "              title=\"Convert this dataframe to an interactive table.\"\n",
              "              style=\"display:none;\">\n",
              "        \n",
              "  <svg xmlns=\"http://www.w3.org/2000/svg\" height=\"24px\"viewBox=\"0 0 24 24\"\n",
              "       width=\"24px\">\n",
              "    <path d=\"M0 0h24v24H0V0z\" fill=\"none\"/>\n",
              "    <path d=\"M18.56 5.44l.94 2.06.94-2.06 2.06-.94-2.06-.94-.94-2.06-.94 2.06-2.06.94zm-11 1L8.5 8.5l.94-2.06 2.06-.94-2.06-.94L8.5 2.5l-.94 2.06-2.06.94zm10 10l.94 2.06.94-2.06 2.06-.94-2.06-.94-.94-2.06-.94 2.06-2.06.94z\"/><path d=\"M17.41 7.96l-1.37-1.37c-.4-.4-.92-.59-1.43-.59-.52 0-1.04.2-1.43.59L10.3 9.45l-7.72 7.72c-.78.78-.78 2.05 0 2.83L4 21.41c.39.39.9.59 1.41.59.51 0 1.02-.2 1.41-.59l7.78-7.78 2.81-2.81c.8-.78.8-2.07 0-2.86zM5.41 20L4 18.59l7.72-7.72 1.47 1.35L5.41 20z\"/>\n",
              "  </svg>\n",
              "      </button>\n",
              "      \n",
              "  <style>\n",
              "    .colab-df-container {\n",
              "      display:flex;\n",
              "      flex-wrap:wrap;\n",
              "      gap: 12px;\n",
              "    }\n",
              "\n",
              "    .colab-df-convert {\n",
              "      background-color: #E8F0FE;\n",
              "      border: none;\n",
              "      border-radius: 50%;\n",
              "      cursor: pointer;\n",
              "      display: none;\n",
              "      fill: #1967D2;\n",
              "      height: 32px;\n",
              "      padding: 0 0 0 0;\n",
              "      width: 32px;\n",
              "    }\n",
              "\n",
              "    .colab-df-convert:hover {\n",
              "      background-color: #E2EBFA;\n",
              "      box-shadow: 0px 1px 2px rgba(60, 64, 67, 0.3), 0px 1px 3px 1px rgba(60, 64, 67, 0.15);\n",
              "      fill: #174EA6;\n",
              "    }\n",
              "\n",
              "    [theme=dark] .colab-df-convert {\n",
              "      background-color: #3B4455;\n",
              "      fill: #D2E3FC;\n",
              "    }\n",
              "\n",
              "    [theme=dark] .colab-df-convert:hover {\n",
              "      background-color: #434B5C;\n",
              "      box-shadow: 0px 1px 3px 1px rgba(0, 0, 0, 0.15);\n",
              "      filter: drop-shadow(0px 1px 2px rgba(0, 0, 0, 0.3));\n",
              "      fill: #FFFFFF;\n",
              "    }\n",
              "  </style>\n",
              "\n",
              "      <script>\n",
              "        const buttonEl =\n",
              "          document.querySelector('#df-b0b45c5e-72c6-488e-b200-b6a445819ce9 button.colab-df-convert');\n",
              "        buttonEl.style.display =\n",
              "          google.colab.kernel.accessAllowed ? 'block' : 'none';\n",
              "\n",
              "        async function convertToInteractive(key) {\n",
              "          const element = document.querySelector('#df-b0b45c5e-72c6-488e-b200-b6a445819ce9');\n",
              "          const dataTable =\n",
              "            await google.colab.kernel.invokeFunction('convertToInteractive',\n",
              "                                                     [key], {});\n",
              "          if (!dataTable) return;\n",
              "\n",
              "          const docLinkHtml = 'Like what you see? Visit the ' +\n",
              "            '<a target=\"_blank\" href=https://colab.research.google.com/notebooks/data_table.ipynb>data table notebook</a>'\n",
              "            + ' to learn more about interactive tables.';\n",
              "          element.innerHTML = '';\n",
              "          dataTable['output_type'] = 'display_data';\n",
              "          await google.colab.output.renderOutput(dataTable, element);\n",
              "          const docLink = document.createElement('div');\n",
              "          docLink.innerHTML = docLinkHtml;\n",
              "          element.appendChild(docLink);\n",
              "        }\n",
              "      </script>\n",
              "    </div>\n",
              "  </div>\n",
              "  "
            ],
            "text/plain": [
              "      type                                            message\n",
              "4174     0  [just, woke, up, yeesh, its, late, but, i, did...\n",
              "4175     0  [what, do, u, reckon, as, need, 2, arrange, tr...\n",
              "4176     1  [free, entry, into, our, £250, weekly, competi...\n",
              "4177     1  [pls, stop, bootydelious, 32f, is, inviting, y...\n",
              "4178     0  [tell, my, bad, character, which, u, dnt, lik,..."
            ]
          },
          "metadata": {},
          "execution_count": 3
        }
      ]
    },
    {
      "cell_type": "code",
      "source": [
        "# --------------------------------------------------------------------------- Get Index Function --------------------------------------------------------------------------\n",
        "\n",
        "def get_index(df_column):\n",
        "\n",
        "  count = 1\n",
        "  bag_of_words_dict = {}\n",
        "  index_dict = {}\n",
        "  bag_of_words = []\n",
        "\n",
        "  for ii in range(len(df_column)):\n",
        "\n",
        "    len_list = len(df_column[ii])\n",
        "\n",
        "    for jj in range(len_list):\n",
        "\n",
        "      if df_column[ii][jj] not in bag_of_words:\n",
        "\n",
        "        bag_of_words.append(df_column[ii][jj])\n",
        "        bag_of_words_dict[df_column[ii][jj]] = count\n",
        "        index_dict[count] = df_column[ii][jj]\n",
        "        count += 1\n",
        "\n",
        "  return bag_of_words_dict, index_dict\n",
        "\n",
        "data_index = pd.concat([raw_train_data, raw_test_data], axis = 0, ignore_index = True)\n",
        "\n",
        "index, inverse_index = get_index(data_index['message'])\n",
        "\n",
        "vocabulary_size = len(index)"
      ],
      "metadata": {
        "id": "qj5DbDrKlCO5"
      },
      "execution_count": 4,
      "outputs": []
    },
    {
      "cell_type": "code",
      "source": [
        "# ---------------------------------------------------------------------------- Encoding Function --------------------------------------------------------------------------\n",
        "\n",
        "def encoding(data, index):\n",
        "\n",
        "  for ii in range(len(data['message'])):\n",
        "    for jj in range(len(data['message'][ii])):\n",
        "\n",
        "      data['message'][ii][jj] = index[data['message'][ii][jj]]\n",
        "\n",
        "  return data\n",
        "\n",
        "train_data_encoded = encoding(raw_train_data, index)\n",
        "test_data_encoded = encoding(raw_test_data, index)\n",
        "\n",
        "train_data = np.array(train_data_encoded['message'])\n",
        "train_data_labels = np.array(train_data_encoded.pop('type'))\n",
        "\n",
        "test_data = np.array(test_data_encoded['message'])\n",
        "test_data_labels = np.array(test_data_encoded.pop('type'))"
      ],
      "metadata": {
        "id": "P6JRKSDTlMnO"
      },
      "execution_count": 5,
      "outputs": []
    },
    {
      "cell_type": "code",
      "source": [
        "# ------------------------------------------------------------------------ Regularizing data length -------------------------------------------------------------------------\n",
        "\n",
        "max_length = 50\n",
        "\n",
        "train_data = sequence.pad_sequences(train_data, max_length)\n",
        "test_data = sequence.pad_sequences(test_data, max_length)"
      ],
      "metadata": {
        "id": "_GHDFnQYlVCc"
      },
      "execution_count": 8,
      "outputs": []
    },
    {
      "cell_type": "code",
      "source": [
        "# ------------------------------------------------------------------------- Building the model ------------------------------------------------------------------------------\n",
        "\n",
        "model = keras.Sequential([\n",
        "  keras.layers.Embedding(vocabulary_size + 1, 32),\n",
        "  keras.layers.LSTM(32),\n",
        "  keras.layers.Dense(1, activation='sigmoid')])\n",
        "\n",
        "model.compile(optimizer='rmsprop',\n",
        "              loss='binary_crossentropy',\n",
        "              metrics=['accuracy'])\n",
        "\n",
        "model.summary()"
      ],
      "metadata": {
        "colab": {
          "base_uri": "https://localhost:8080/"
        },
        "id": "8bC9RE-FlflV",
        "outputId": "cd7bae49-0623-4be8-949b-0353bbe76111"
      },
      "execution_count": 9,
      "outputs": [
        {
          "output_type": "stream",
          "name": "stdout",
          "text": [
            "Model: \"sequential\"\n",
            "_________________________________________________________________\n",
            " Layer (type)                Output Shape              Param #   \n",
            "=================================================================\n",
            " embedding (Embedding)       (None, None, 32)          308864    \n",
            "                                                                 \n",
            " lstm (LSTM)                 (None, 32)                8320      \n",
            "                                                                 \n",
            " dense (Dense)               (None, 1)                 33        \n",
            "                                                                 \n",
            "=================================================================\n",
            "Total params: 317,217\n",
            "Trainable params: 317,217\n",
            "Non-trainable params: 0\n",
            "_________________________________________________________________\n"
          ]
        }
      ]
    },
    {
      "cell_type": "code",
      "source": [
        "# ----------------------------------------------------------------------------- Training ------------------------------------------------------------------------------------\n",
        "\n",
        "history = model.fit(train_data, train_data_labels, epochs = 10, validation_split = 0.2)"
      ],
      "metadata": {
        "colab": {
          "base_uri": "https://localhost:8080/"
        },
        "id": "TwmNLpf2lmvB",
        "outputId": "9893b011-3623-4f8a-9c45-1863aa619f3f"
      },
      "execution_count": 10,
      "outputs": [
        {
          "output_type": "stream",
          "name": "stdout",
          "text": [
            "Epoch 1/10\n",
            "105/105 [==============================] - 6s 30ms/step - loss: 0.2528 - accuracy: 0.9079 - val_loss: 0.1293 - val_accuracy: 0.9785\n",
            "Epoch 2/10\n",
            "105/105 [==============================] - 3s 25ms/step - loss: 0.0833 - accuracy: 0.9773 - val_loss: 0.0825 - val_accuracy: 0.9785\n",
            "Epoch 3/10\n",
            "105/105 [==============================] - 3s 25ms/step - loss: 0.0445 - accuracy: 0.9877 - val_loss: 0.0556 - val_accuracy: 0.9856\n",
            "Epoch 4/10\n",
            "105/105 [==============================] - 3s 25ms/step - loss: 0.0305 - accuracy: 0.9910 - val_loss: 0.0558 - val_accuracy: 0.9821\n",
            "Epoch 5/10\n",
            "105/105 [==============================] - 3s 25ms/step - loss: 0.0218 - accuracy: 0.9940 - val_loss: 0.0527 - val_accuracy: 0.9880\n",
            "Epoch 6/10\n",
            "105/105 [==============================] - 3s 25ms/step - loss: 0.0148 - accuracy: 0.9955 - val_loss: 0.0718 - val_accuracy: 0.9821\n",
            "Epoch 7/10\n",
            "105/105 [==============================] - 3s 25ms/step - loss: 0.0109 - accuracy: 0.9958 - val_loss: 0.0706 - val_accuracy: 0.9833\n",
            "Epoch 8/10\n",
            "105/105 [==============================] - 3s 26ms/step - loss: 0.0080 - accuracy: 0.9970 - val_loss: 0.0744 - val_accuracy: 0.9856\n",
            "Epoch 9/10\n",
            "105/105 [==============================] - 3s 25ms/step - loss: 0.0047 - accuracy: 0.9982 - val_loss: 0.0854 - val_accuracy: 0.9856\n",
            "Epoch 10/10\n",
            "105/105 [==============================] - 3s 25ms/step - loss: 0.0049 - accuracy: 0.9985 - val_loss: 0.0911 - val_accuracy: 0.9844\n"
          ]
        }
      ]
    },
    {
      "cell_type": "code",
      "source": [
        "# ----------------------------------------------------------------------- Evaluating the model -----------------------------------------------------------------------------\n",
        "\n",
        "results = model.evaluate(test_data, test_data_labels)\n",
        "print(results)"
      ],
      "metadata": {
        "colab": {
          "base_uri": "https://localhost:8080/"
        },
        "id": "LO4TAv76l0wU",
        "outputId": "3f6c9ceb-ea98-435a-a70f-fe81b8f7e61d"
      },
      "execution_count": 11,
      "outputs": [
        {
          "output_type": "stream",
          "name": "stdout",
          "text": [
            "44/44 [==============================] - 0s 6ms/step - loss: 0.0634 - accuracy: 0.9856\n",
            "[0.06339622288942337, 0.9856321811676025]\n"
          ]
        }
      ]
    },
    {
      "cell_type": "code",
      "source": [
        "def predict_message(message):\n",
        "\n",
        "  lower_text = message.lower()\n",
        "  no_punc_text = lower_text.translate(str.maketrans(' ', ' ', string.punctuation))\n",
        "  splited_text = no_punc_text.split()\n",
        "  encoded_text = np.array([index[ii] for ii in splited_text]).reshape(1, len(splited_text))\n",
        "  encoded_text = sequence.pad_sequences(encoded_text, max_length)\n",
        "  predict = model.predict(encoded_text)\n",
        "  if predict > 0.5:\n",
        "    prediction = 'Spam, with {}% accuracy.'.format(predict * 100)\n",
        "  else:\n",
        "    prediction = 'Ham, with {}% accuracy.'.format((1 - predict) * 100)\n",
        "  return (prediction)\n",
        "\n",
        "message = 'How are you doing today?'\n",
        "\n",
        "prediction = predict_message(message)\n",
        "print(prediction)"
      ],
      "metadata": {
        "colab": {
          "base_uri": "https://localhost:8080/"
        },
        "id": "VblbFuJsl6A0",
        "outputId": "4e94da9a-e8c5-49ae-bd2f-1acb8a4c553a"
      },
      "execution_count": 13,
      "outputs": [
        {
          "output_type": "stream",
          "name": "stdout",
          "text": [
            "Ham, with [[99.993965]]% accuracy.\n"
          ]
        }
      ]
    }
  ]
}